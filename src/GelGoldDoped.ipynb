{
 "cells": [
  {
   "cell_type": "code",
   "execution_count": 1,
   "metadata": {},
   "outputs": [
    {
     "name": "stdout",
     "output_type": "stream",
     "text": [
      "計算環境\n",
      "Julia Version 1.5.0\n",
      "Commit 96786e22cc (2020-08-01 23:44 UTC)\n",
      "Platform Info:\n",
      "  OS: Windows (x86_64-w64-mingw32)\n",
      "  CPU: Intel(R) Core(TM) i9-10900 CPU @ 2.80GHz\n",
      "  WORD_SIZE: 64\n",
      "  LIBM: libopenlibm\n",
      "  LLVM: libLLVM-9.0.1 (ORCJIT, skylake)\n",
      "\u001b[32m\u001b[1mStatus\u001b[22m\u001b[39m `C:\\Users\\KTOYODA\\.julia\\environments\\v1.5\\Project.toml`\n",
      " \u001b[90m [6e4b80f9] \u001b[39m\u001b[37mBenchmarkTools v0.5.0\u001b[39m\n",
      " \u001b[90m [336ed68f] \u001b[39m\u001b[37mCSV v0.7.7\u001b[39m\n",
      " \u001b[90m [35d6a980] \u001b[39m\u001b[37mColorSchemes v3.9.0\u001b[39m\n",
      " \u001b[90m [8f4d0f93] \u001b[39m\u001b[37mConda v1.4.1\u001b[39m\n",
      " \u001b[90m [a93c6f00] \u001b[39m\u001b[37mDataFrames v0.21.6\u001b[39m\n",
      " \u001b[90m [5789e2e9] \u001b[39m\u001b[37mFileIO v1.4.1\u001b[39m\n",
      " \u001b[90m [7073ff75] \u001b[39m\u001b[37mIJulia v1.21.3\u001b[39m\n",
      " \u001b[90m [82e4d734] \u001b[39m\u001b[37mImageIO v0.3.0\u001b[39m\n",
      " \u001b[90m [6218d12a] \u001b[39m\u001b[37mImageMagick v1.1.5\u001b[39m\n",
      " \u001b[90m [4e3cecfd] \u001b[39m\u001b[37mImageShow v0.2.3\u001b[39m\n",
      " \u001b[90m [86fae568] \u001b[39m\u001b[37mImageView v0.10.9\u001b[39m\n",
      " \u001b[90m [916415d5] \u001b[39m\u001b[37mImages v0.22.4\u001b[39m\n",
      " \u001b[90m [d1acc4aa] \u001b[39m\u001b[37mIntervalArithmetic v0.17.5\u001b[39m\n",
      " \u001b[90m [ee78f7c6] \u001b[39m\u001b[37mMakie v0.11.1\u001b[39m\n",
      " \u001b[90m [442fdcdd] \u001b[39m\u001b[37mMeasures v0.3.1\u001b[39m\n",
      " \u001b[90m [9b87118b] \u001b[39m\u001b[37mPackageCompiler v1.2.1\u001b[39m\n",
      " \u001b[90m [d96e819e] \u001b[39m\u001b[37mParameters v0.12.1\u001b[39m\n",
      " \u001b[90m [58dd65bb] \u001b[39m\u001b[37mPlotly v0.3.0\u001b[39m\n",
      " \u001b[90m [91a5bcdd] \u001b[39m\u001b[37mPlots v1.6.0\u001b[39m\n",
      " \u001b[90m [c3e4b0f8] \u001b[39m\u001b[37mPluto v0.11.6\u001b[39m\n",
      " \u001b[90m [438e738f] \u001b[39m\u001b[37mPyCall v1.91.4\u001b[39m\n",
      " \u001b[90m [d330b81b] \u001b[39m\u001b[37mPyPlot v2.9.0\u001b[39m\n",
      " \u001b[90m [2db162a6] \u001b[39m\u001b[37mQML v0.6.0\u001b[39m\n",
      " \u001b[90m [295af30f] \u001b[39m\u001b[37mRevise v2.7.3\u001b[39m\n",
      " \u001b[90m [276daf66] \u001b[39m\u001b[37mSpecialFunctions v0.10.3\u001b[39m\n",
      " \u001b[90m [37e2e46d] \u001b[39m\u001b[37mLinearAlgebra\u001b[39m\n",
      "計算条件\n",
      "param_range = struct_range\n",
      "  xwidth: Int16 100\n",
      "  ywidth: Int16 100\n",
      "  zwidth: Int16 100\n",
      "  trange: Int16 50\n",
      "\n",
      "param_step = struct_step\n",
      "  xstep: Float16 Float16(0.1)\n",
      "  ystep: Float16 Float16(0.1)\n",
      "  zstep: Float16 Float16(0.05)\n",
      "\n",
      "param_material = struct_materiarl\n",
      "  nb: Float16 Float16(1.5)\n",
      "  Δn0: Float16 Float16(0.01)\n",
      "  τ: Float16 Float16(0.1)\n",
      "  α: Float16 0.0\n",
      "\n",
      "param_mode = struct_vortex_mode\n",
      "  l: Int16 1\n",
      "  p: Int16 1\n",
      "\n",
      "  0.000013 seconds (22 allocations: 1.508 KiB)\n",
      "  0.000010 seconds (23 allocations: 1.500 KiB)\n",
      "  0.000010 seconds (23 allocations: 1.500 KiB)\n",
      "  0.000009 seconds (23 allocations: 1.500 KiB)\n",
      "  0.000009 seconds (23 allocations: 1.500 KiB)\n"
     ]
    },
    {
     "data": {
      "text/plain": [
       "retN (generic function with 1 method)"
      ]
     },
     "execution_count": 1,
     "metadata": {},
     "output_type": "execute_result"
    }
   ],
   "source": [
    "#計算に関係ないパッケージ\n",
    "using Pkg\n",
    "\n",
    "include(\"parameter.jl\")\n",
    "\n",
    "#計算に使うパッケージ\n",
    "using LinearAlgebra\n",
    "using SparseArrays\n",
    "using Plots\n",
    "\n",
    "# 計算条件###################\n",
    "#計算レンジ\n",
    "param_range = struct_range(xwidth = 100, ywidth = 100, zwidth = 100,trange = 50)\n",
    "#計算ステップ\n",
    "param_step = struct_step(xstep = 0.1, ystep = 0.1, zstep = 0.05)\n",
    "#材料情報\n",
    "param_material = struct_materiarl(nb = 1.5, Δn0 = 0.01, τ = 0.1,α = 0)\n",
    "param_mode = struct_vortex_mode()\n",
    "\n",
    "println(\"計算環境\")\n",
    "versioninfo()\n",
    "Pkg.status()\n",
    "\n",
    "println(\"計算条件\")\n",
    "@show param_range\n",
    "@show param_step\n",
    "@show param_material\n",
    "@show param_mode\n",
    "\n",
    "@time function returnPades(T::Int16,N::Int16)\n",
    "end\n",
    "\n",
    "#ADIのX方向差分\n",
    "@time function calcStep1()\n",
    "end\n",
    "\n",
    "#ADIのY方向差分\n",
    "@time function calcStep2()\n",
    "end\n",
    "\n",
    "@time function showMode()\n",
    "end\n",
    "\n",
    "@time function retN()\n",
    "end\n",
    "\n"
   ]
  },
  {
   "cell_type": "markdown",
   "metadata": {},
   "source": [
    "# Jupyterでテキストも同時に作る\n",
    "というわけです。"
   ]
  },
  {
   "cell_type": "code",
   "execution_count": null,
   "metadata": {},
   "outputs": [],
   "source": []
  }
 ],
 "metadata": {
  "kernelspec": {
   "display_name": "Julia 1.5.0",
   "language": "julia",
   "name": "julia-1.5"
  },
  "language_info": {
   "file_extension": ".jl",
   "mimetype": "application/julia",
   "name": "julia",
   "version": "1.5.0"
  }
 },
 "nbformat": 4,
 "nbformat_minor": 4
}
